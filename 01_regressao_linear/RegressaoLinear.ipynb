{
 "cells": [
  {
   "cell_type": "markdown",
   "id": "21004a2a",
   "metadata": {
    "colab_type": "text",
    "id": "view-in-github"
   },
   "source": [
    "<a href=\"https://colab.research.google.com/github/xaviermarcio/ia-projetos/blob/main/01_regressao_linear/RegressaoLinear.ipynb\" target=\"_parent\"><img src=\"https://colab.research.google.com/assets/colab-badge.svg\" alt=\"Open In Colab\"/></a>"
   ]
  },
  {
   "cell_type": "markdown",
   "id": "f292c4c3",
   "metadata": {},
   "source": [
    "**O que esta célula faz:**\n",
    "- Importa bibliotecas necessárias para manipular arrays, treinar o modelo e/ou visualizar resultados.\n",
    "- Usa o modelo treinado para **obter previsões** para novos valores de entrada."
   ]
  },
  {
   "cell_type": "code",
   "execution_count": 5,
   "id": "f8f9fb88",
   "metadata": {
    "id": "mR3RCZ-NZdvc"
   },
   "outputs": [],
   "source": [
    "from numpy import *\n",
    "\n",
    "class LinearRegression:\n",
    "    def __init__(self, x, y):\n",
    "      self.x = x\n",
    "      self.y = y\n",
    "      self.__correlation_coefficient =  self.__correlacao()\n",
    "      self.__inclination = self.__inclinacao()\n",
    "      self.__intercept = self.__interceptacao()\n",
    "\n",
    "    def __correlacao(self):\n",
    "      covariacao = cov(self.x, self.y, bias=True)[0][1]\n",
    "      variancia_x = var(self.x)\n",
    "      variancia_y = var(self.y)\n",
    "      return covariacao / sqrt(variancia_x * variancia_y)\n",
    "\n",
    "    def __inclinacao(self):\n",
    "      stdx = std(self.x)\n",
    "      stdy = std(self.y)\n",
    "      return self.__correlation_coefficient * (stdy / stdx)\n",
    "\n",
    "    def __interceptacao(self):\n",
    "      mediax = mean(self.x)\n",
    "      mediay = mean(self.y)\n",
    "      return mediay - mediax * self.__inclination\n",
    "\n",
    "    def previsao(self,valor):\n",
    "      return self.__intercept + (self.__inclination * valor)\n"
   ]
  },
  {
   "cell_type": "markdown",
   "id": "9fe28798",
   "metadata": {},
   "source": [
    "**O que esta célula faz:**\n",
    "- Define os vetores de dados: **x** (variável independente) e **y** (variável alvo).\n",
    "- Cria e **treina um modelo de Regressão Linear** nos dados de treino.\n",
    "- Usa o modelo treinado para **obter previsões** para novos valores de entrada.\n",
    "- Exibe resultados no console (saída impressa)."
   ]
  },
  {
   "cell_type": "code",
   "execution_count": 6,
   "id": "73eec037",
   "metadata": {
    "colab": {
     "base_uri": "https://localhost:8080/"
    },
    "id": "2tua-nh_gXaT",
    "outputId": "9eba5b33-cd1c-4db2-c201-f9a4982a924e"
   },
   "outputs": [
    {
     "name": "stdout",
     "output_type": "stream",
     "text": [
      "12.0\n"
     ]
    }
   ],
   "source": [
    "x = array([1, 2, 3, 4, 5])\n",
    "y = array([2, 4, 6, 8, 10])\n",
    "\n",
    "lr = LinearRegression(x,y)\n",
    "previsao = lr.previsao(6)\n",
    "print(previsao)\n",
    "\n",
    "\n"
   ]
  },
  {
   "cell_type": "markdown",
   "id": "a32bd260",
   "metadata": {},
   "source": [
    "## Padronização de variáveis\n",
    "Para fins didáticos e para manter compatibilidade com bibliotecas, vamos garantir que existam arrays `X` (entrada) e `y_arr` (saída)."
   ]
  },
  {
   "cell_type": "code",
   "execution_count": null,
   "id": "c7ebfbe7",
   "metadata": {},
   "outputs": [],
   "source": [
    "# Importações necessárias (caso ainda não existam) \n",
    "import numpy as np\n",
    "import matplotlib.pyplot as plt\n",
    "\n",
    "# Garante arrays numpy padronizados a partir das variáveis já definidas no notebook\n",
    "# Caso 'x' e 'y' ainda não existam, você pode definir aqui manualmente.\n",
    "X = np.asarray(x) if 'x' in globals() else np.array([1,2,3,4,5])\n",
    "y_arr = np.asarray(y) if 'y' in globals() else np.array([2,4,6,8,10])\n",
    "\n",
    "# Checagem rápida\n",
    "print(\"X:\", X)\n",
    "print(\"y:\", y_arr)\n"
   ]
  },
  {
   "cell_type": "markdown",
   "id": "e050db16",
   "metadata": {},
   "source": [
    "## Ajuste de Regressão Linear (via `numpy.polyfit`)\n",
    "Usamos `polyfit` para obter os coeficientes da reta: `y = slope * x + intercept`. Isso evita dependências externas e funciona bem para estudo."
   ]
  },
  {
   "cell_type": "code",
   "execution_count": null,
   "id": "7033f7f2",
   "metadata": {},
   "outputs": [],
   "source": [
    "# Ajuste da reta de regressão: y = slope * x + intercept\n",
    "slope, intercept = np.polyfit(X, y_arr, 1)\n",
    "\n",
    "# Predição nos próprios pontos X para avaliar o ajuste\n",
    "y_pred = slope * X + intercept\n",
    "\n",
    "print(f\"slope (coeficiente angular): {slope:.6f}\")\n",
    "print(f\"intercept (intercepto): {intercept:.6f}\")\n"
   ]
  },
  {
   "cell_type": "markdown",
   "id": "ff0c4ff4",
   "metadata": {},
   "source": [
    "## Métricas de avaliação\n",
    "- **R²**: proporção da variância explicada pelo modelo.\n",
    "- **MSE**: erro quadrático médio.\n",
    "- **MAE**: erro absoluto médio."
   ]
  },
  {
   "cell_type": "code",
   "execution_count": null,
   "id": "f79a6e03",
   "metadata": {},
   "outputs": [],
   "source": [
    "# Cálculo manual das métricas\n",
    "residuals = y_arr - y_pred\n",
    "ss_res = np.sum(residuals ** 2)\n",
    "ss_tot = np.sum((y_arr - np.mean(y_arr)) ** 2)\n",
    "r2 = 1 - ss_res/ss_tot if ss_tot != 0 else 1.0\n",
    "\n",
    "mse = np.mean((y_arr - y_pred) ** 2)\n",
    "mae = np.mean(np.abs(y_arr - y_pred))\n",
    "\n",
    "print(f\"R²  : {r2:.6f}\")\n",
    "print(f\"MSE : {mse:.6f}\")\n",
    "print(f\"MAE : {mae:.6f}\")\n"
   ]
  },
  {
   "cell_type": "markdown",
   "id": "76559786",
   "metadata": {},
   "source": [
    "## Visualização: dados e reta de regressão\n",
    "O gráfico mostra os pontos observados e a reta ajustada."
   ]
  },
  {
   "cell_type": "code",
   "execution_count": null,
   "id": "f24bd3d8",
   "metadata": {},
   "outputs": [],
   "source": [
    "# Gráfico simples (matplotlib, sem estilos específicos)\n",
    "# Importante: cada gráfico deve estar em seu próprio plot.\n",
    "plt.figure()\n",
    "# Ordena para desenhar a linha de forma correta\n",
    "order = np.argsort(X)\n",
    "plt.scatter(X, y_arr, label=\"Dados\")\n",
    "plt.plot(X[order], y_pred[order], label=\"Reta ajustada\")\n",
    "plt.title(\"Regressão Linear — dados vs. reta ajustada\")\n",
    "plt.xlabel(\"X\")\n",
    "plt.ylabel(\"y\")\n",
    "plt.legend()\n",
    "plt.show()\n"
   ]
  },
  {
   "cell_type": "markdown",
   "id": "9177b883",
   "metadata": {},
   "source": [
    "## Previsão para novo valor\n",
    "Exemplo: previsão para `x = 6` usando os coeficientes ajustados."
   ]
  },
  {
   "cell_type": "code",
   "execution_count": null,
   "id": "d3e20504",
   "metadata": {},
   "outputs": [],
   "source": [
    "x_novo = np.array([6])\n",
    "y_novo_pred = slope * x_novo + intercept\n",
    "print(f\"Entrada: {x_novo[0]}  ->  Previsão: {y_novo_pred[0]:.6f}\")\n"
   ]
  }
 ],
 "metadata": {
  "colab": {
   "authorship_tag": "ABX9TyM6fEvzYyfyRLQYVYngK7WK",
   "include_colab_link": true,
   "provenance": [],
   "toc_visible": true
  },
  "kernelspec": {
   "display_name": "Python 3",
   "name": "python3"
  },
  "language_info": {
   "name": "python"
  }
 },
 "nbformat": 4,
 "nbformat_minor": 5
}
